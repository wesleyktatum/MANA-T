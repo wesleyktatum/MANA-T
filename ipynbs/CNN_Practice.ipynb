{
 "cells": [
  {
   "cell_type": "code",
   "execution_count": 14,
   "metadata": {},
   "outputs": [],
   "source": [
    "import numpy as np\n",
    "import keras as K"
   ]
  },
  {
   "cell_type": "code",
   "execution_count": 15,
   "metadata": {},
   "outputs": [],
   "source": [
    "(x_train, y_train), (x_test, y_test) = K.datasets.mnist.load_data()"
   ]
  },
  {
   "cell_type": "code",
   "execution_count": 16,
   "metadata": {},
   "outputs": [],
   "source": [
    "batch_size = 128\n",
    "num_classes = 10\n",
    "epochs = 5\n",
    "img_rows, img_cols = 28, 28"
   ]
  },
  {
   "cell_type": "code",
   "execution_count": 13,
   "metadata": {},
   "outputs": [
    {
     "data": {
      "text/plain": [
       "'tensorflow'"
      ]
     },
     "execution_count": 13,
     "metadata": {},
     "output_type": "execute_result"
    }
   ],
   "source": [
    "K.backend.backend()"
   ]
  },
  {
   "cell_type": "code",
   "execution_count": 5,
   "metadata": {},
   "outputs": [],
   "source": [
    "if K.backend.image_data_format() == 'channels_first':\n",
    "    x_train = x_train.reshape(x_train.shape[0], 1, img_rows, img_cols)\n",
    "    x_test = x_test.reshape(x_test.shape[0], 1, img_rows, img_cols)\n",
    "    input_shape = (1, img_rows, img_cols)\n",
    "else:\n",
    "    x_train = x_train.reshape(x_train.shape[0], img_rows, img_cols, 1)\n",
    "    x_test = x_test.reshape(x_test.shape[0], img_rows, img_cols, 1)\n",
    "    input_shape = (img_rows, img_cols, 1)"
   ]
  },
  {
   "cell_type": "code",
   "execution_count": 6,
   "metadata": {},
   "outputs": [
    {
     "name": "stdout",
     "output_type": "stream",
     "text": [
      "x_train shape: (60000, 28, 28, 1)\n",
      "60000 train samples\n",
      "10000 test samples\n"
     ]
    }
   ],
   "source": [
    "x_train = x_train.astype('float32')\n",
    "x_test = x_test.astype('float32')\n",
    "x_train /= 255\n",
    "x_test /= 255\n",
    "print ('x_train shape:', x_train.shape)\n",
    "print (x_train.shape[0], 'train samples')\n",
    "print (x_test.shape[0], 'test samples')"
   ]
  },
  {
   "cell_type": "code",
   "execution_count": 7,
   "metadata": {},
   "outputs": [],
   "source": [
    "#convert class vectors to binary class matrices. Converts labels to integers ranging 0 to num_classses\n",
    "\n",
    "y_train = K.utils.to_categorical(y_train, num_classes)\n",
    "y_test = K.utils.to_categorical(y_test, num_classes)"
   ]
  },
  {
   "cell_type": "code",
   "execution_count": 8,
   "metadata": {},
   "outputs": [],
   "source": [
    "model = K.models.Sequential()\n",
    "#32 feature filters, LRF=(3,3), stridelength=1\n",
    "model.add(K.layers.Conv2D(32, kernel_size = (3, 3), activation = 'relu', input_shape = input_shape, \n",
    "                          activity_regularizer = K.regularizers.l2(0.01)))\n",
    "model.add(K.layers.Conv2D(64, (3, 3), activation = 'relu', activity_regularizer = K.regularizers.l2(0.01)))\n",
    "model.add(K.layers.MaxPooling2D(pool_size = (2, 2)))\n",
    "model.add(K.layers.Dropout(0.25))\n",
    "model.add(K.layers.Flatten())\n",
    "model.add(K.layers.Dense(128, activation = 'relu'))\n",
    "model.add(K.layers.Dropout(0.5))\n",
    "model.add(K.layers.Dense(num_classes, activation = 'softmax'))"
   ]
  },
  {
   "cell_type": "code",
   "execution_count": 9,
   "metadata": {},
   "outputs": [],
   "source": [
    "model.compile(loss = K.losses.categorical_crossentropy, optimizer = K.optimizers.Adadelta(), metrics = ['accuracy'])"
   ]
  },
  {
   "cell_type": "code",
   "execution_count": 10,
   "metadata": {},
   "outputs": [
    {
     "name": "stdout",
     "output_type": "stream",
     "text": [
      "Train on 60000 samples, validate on 10000 samples\n",
      "Epoch 1/5\n",
      "60000/60000 [==============================] - 227s 4ms/step - loss: 18.4212 - acc: 0.6923 - val_loss: 1.2779 - val_acc: 0.8388\n",
      "Epoch 2/5\n",
      "60000/60000 [==============================] - 235s 4ms/step - loss: 0.9945 - acc: 0.8372 - val_loss: 0.6811 - val_acc: 0.9252\n",
      "Epoch 3/5\n",
      "60000/60000 [==============================] - 230s 4ms/step - loss: 0.6625 - acc: 0.8920 - val_loss: 0.4921 - val_acc: 0.9433\n",
      "Epoch 4/5\n",
      "60000/60000 [==============================] - 221s 4ms/step - loss: 0.5232 - acc: 0.9155 - val_loss: 0.4073 - val_acc: 0.9460\n",
      "Epoch 5/5\n",
      "60000/60000 [==============================] - 215s 4ms/step - loss: 0.4457 - acc: 0.9267 - val_loss: 0.3443 - val_acc: 0.9516\n",
      "10000/10000 [==============================] - 7s 715us/step\n",
      "Test loss: 0.234991564381\n",
      "Test accuracy: 0.9516\n"
     ]
    }
   ],
   "source": [
    "model.fit(x_train, y_train, batch_size = batch_size, epochs = epochs, verbose = 1, validation_data = (x_test, y_test))\n",
    "score = model.evaluate(x_test, y_test, verbose = 1)\n",
    "print ('Test loss:', score[0])\n",
    "print ('Test accuracy:', score[1])"
   ]
  },
  {
   "cell_type": "code",
   "execution_count": null,
   "metadata": {
    "collapsed": true
   },
   "outputs": [],
   "source": []
  }
 ],
 "metadata": {
  "anaconda-cloud": {},
  "kernelspec": {
   "display_name": "Python 3",
   "language": "python",
   "name": "python3"
  },
  "language_info": {
   "codemirror_mode": {
    "name": "ipython",
    "version": 3
   },
   "file_extension": ".py",
   "mimetype": "text/x-python",
   "name": "python",
   "nbconvert_exporter": "python",
   "pygments_lexer": "ipython3",
   "version": "3.6.3"
  }
 },
 "nbformat": 4,
 "nbformat_minor": 2
}
