{
 "cells": [
  {
   "cell_type": "code",
   "execution_count": 1,
   "metadata": {
    "collapsed": true
   },
   "outputs": [],
   "source": [
    "import math\n",
    "import timeit\n",
    "\n",
    "import numpy as np\n",
    "import pandas as pd\n",
    "\n",
    "import matplotlib.pyplot as plt\n",
    "%matplotlib inline"
   ]
  },
  {
   "cell_type": "code",
   "execution_count": 18,
   "metadata": {
    "collapsed": true
   },
   "outputs": [],
   "source": [
    "def pixel_classifier_pixel(pixel):\n",
    "    \"\"\"\n",
    "    This function takes in a 3D array of AFM data from a single scan. It iterates through each xy location and\n",
    "    classifies that pixel as either crystalline or amorphous, depending on its z values.\n",
    "    \n",
    "    inputs: pixel - a 1D array of AFM data for each pixel\n",
    "    \n",
    "    outputs: classified_pixel - an integer that contains the pixel's identity, 1 denotes crystalline, -1 denotes\n",
    "                    amorphous.\n",
    "    \"\"\"\n",
    "    \n",
    "    adh_cut = 0.033 #greater than 33 mV\n",
    "    def_cut = 0.0000000026 #less than 2.6 nm\n",
    "    dis_cut = 0.033 #greater than 33 mV\n",
    "    mod_cut = -0.03 #greater than -0.03 V\n",
    "    stif_cut = 0.01 #greater than 0.01 V \n",
    "    \n",
    "    classified_pixel = 0\n",
    "\n",
    "    crystalline_count = 0\n",
    "            \n",
    "    if pixel[0] >= adh_cut:\n",
    "        crystalline_count += 1\n",
    "    else:\n",
    "        pass\n",
    "\n",
    "    if pixel[1] <= def_cut:\n",
    "        crystalline_count += 1\n",
    "    else:\n",
    "        pass\n",
    "\n",
    "    if pixel[2] >= dis_cut:\n",
    "        crystalline_count += 1\n",
    "    else:\n",
    "        pass\n",
    "\n",
    "    if pixel[3] >= mod_cut:\n",
    "        crystalline_count += 1\n",
    "    else:\n",
    "        pass\n",
    "\n",
    "    if pixel[4] >= stif_cut:\n",
    "        crystalline_count += 1\n",
    "    else:\n",
    "        pass\n",
    "\n",
    "    if crystalline_count >= 3:\n",
    "        classified_pixel = 1\n",
    "    else:\n",
    "        classified_pixel = -1\n",
    "    \n",
    "    return classified_pixel"
   ]
  },
  {
   "cell_type": "code",
   "execution_count": 3,
   "metadata": {
    "collapsed": true
   },
   "outputs": [],
   "source": [
    "def find_maxes(scan):\n",
    "    \"\"\"\n",
    "    This function takes in a 3D array of intensity values for pixels in an AFM micrograph and returns the maximum\n",
    "    value for each of the scan types as a vector\n",
    "    \n",
    "    input: numpy ndarray of 3 dimensions containing AFM scan data\n",
    "    output: numpy array of 1 dimension containing the maximum value of each scan type\n",
    "    \"\"\"\n",
    "    x, y, _ = scan.shape\n",
    "    z = 5 #only want the scan features and not prior classifications\n",
    "    maxVec = np.empty(z)\n",
    "    \n",
    "    #initialize the maxVec to contain the 1st pixel's values\n",
    "    for h in range(z):\n",
    "        maxVec[h] = scan[0, 0, h]\n",
    "    \n",
    "    #look for the maximum value for each scan type\n",
    "    for i in range(z):\n",
    "        for j in range(x):\n",
    "            for k in range(y):\n",
    "                if maxVec[i] < scan[j, k, i]:\n",
    "                    maxVec[i] = scan[j, k, i]\n",
    "                elif maxVec[i] > scan[j, k, i]:\n",
    "                    pass\n",
    "                else:\n",
    "                    pass\n",
    "    \n",
    "    return maxVec"
   ]
  },
  {
   "cell_type": "code",
   "execution_count": 4,
   "metadata": {
    "collapsed": true
   },
   "outputs": [],
   "source": [
    "def euc_dist(maxVec, pixel1, pixel2):\n",
    "    \"\"\"\n",
    "    This function takes in a vector of maximum values for the sample's different data types and two pixels as\n",
    "    vectors of their features and calculates the Euclidean distance. It then normalizes these differences for \n",
    "    each scan type so there isn't uneven weighting for a given feature type. Finally, it returns the adjusted \n",
    "    Euclidean distance.\n",
    "    \n",
    "    This function assumes that only numeric data is in the pixel features.\n",
    "    \n",
    "    inputs: a 1D numpy array containing the maximum values of a given sample's scan types\n",
    "            a 1D numpy array containing the feature values of the pixel being examined\n",
    "            a 1D numpy array containing the feature values of the neighboring pixel\n",
    "    \n",
    "    outputs: a numeric value describing the normalized euclidean distance between the pixel and its neighbor\n",
    "    \"\"\"\n",
    "    dist_sqrd = 0\n",
    "    \n",
    "    #calculate the normalized square of the euclidean distance. \n",
    "    for i in range(5):\n",
    "        diff = (pixel1[i] - pixel2[i])/maxVec[i]\n",
    "        \n",
    "        dist_sqrd += diff\n",
    "    \n",
    "    dist = math.sqrt(abs(dist_sqrd))\n",
    "    \n",
    "    return dist"
   ]
  },
  {
   "cell_type": "code",
   "execution_count": 5,
   "metadata": {
    "collapsed": true
   },
   "outputs": [],
   "source": [
    "def neighbor_locater(x, y):\n",
    "    \"\"\"\n",
    "    This function takes in the xy location of a pixel in a 3D array of information and locates its neighbors, \n",
    "    returning these locations as a 2D array of 8 different xy coordinates.\n",
    "    \n",
    "    input: x - The row of pixels that contains the pixel in question\n",
    "           y - The column of pixels that contains the pixel in question\n",
    "    \n",
    "    output: neighbors - a 2D array containing the xy location of the 8 nearest neighbors\n",
    "    \"\"\"\n",
    "    \n",
    "    neighbors = np.empty([8, 2])\n",
    "    \n",
    "    neighbors[0, 0] = x - 1\n",
    "    neighbors[0, 1] = y - 1\n",
    "    \n",
    "    neighbors[1, 0] = x - 1\n",
    "    neighbors[1, 1] = y\n",
    "    \n",
    "    neighbors[2, 0] = x - 1\n",
    "    neighbors[2, 1] = y + 1\n",
    "    \n",
    "    neighbors[3, 0] = x\n",
    "    neighbors[3, 1] = y - 1\n",
    "    \n",
    "    neighbors[4, 0] = x\n",
    "    neighbors[4, 1] = y + 1\n",
    "    \n",
    "    neighbors[5, 0] = x + 1\n",
    "    neighbors[5, 1] = y - 1\n",
    "    \n",
    "    neighbors[6, 0] = x + 1\n",
    "    neighbors[6, 1] = y\n",
    "    \n",
    "    neighbors[7, 0] = x + 1\n",
    "    neighbors[7, 1] = y + 1\n",
    "    \n",
    "    return neighbors"
   ]
  },
  {
   "cell_type": "code",
   "execution_count": 6,
   "metadata": {
    "collapsed": true
   },
   "outputs": [],
   "source": [
    "def neighbor_properties(scan, neighbors):\n",
    "    \"\"\"\n",
    "    This function takes in a 3D np.ndarray of AFM data and a 2D np.array of pixel xy locations. These pixels are the\n",
    "    8 neighbors of a given pixel. It returns a 3D np.ndarray of the 8 neighbors' AFM values\n",
    "    \n",
    "    inputs: scan - a 3D np.ndarray with 5 mechanical properties and classifications (1 or more) of an xy array of\n",
    "                    pixels.\n",
    "            neighbors - a 2D np.array of the xy locations of pixels surrounding a given pixel\n",
    "            \n",
    "    outputs: neighbor_props - a 2D np.array of the mechanical properties and classifications of a given pixel's\n",
    "                    8 neighboring pixels\n",
    "    \"\"\"\n",
    "    x, y, _ = scan.shape\n",
    "    \n",
    "    z = 5\n",
    "    \n",
    "    neighbor_props = np.empty([8, z])\n",
    "    \n",
    "    for i in range(8):\n",
    "        xx, yy = neighbors[i]\n",
    "        xx = int(xx)\n",
    "        yy = int(yy)\n",
    "        for j in range(z):\n",
    "            neighbor_props[i, j] = scan[xx, yy, j]\n",
    "    \n",
    "    return neighbor_props"
   ]
  },
  {
   "cell_type": "code",
   "execution_count": 7,
   "metadata": {
    "collapsed": false
   },
   "outputs": [],
   "source": [
    "def euclidean_classifier_pixel(pixel, neighbor_props, maxVec):\n",
    "    \"\"\"\n",
    "    This function takes in a pixel as a vector of the scan types of a nanomechanical mapping AFM micrograph.\n",
    "    Using a normalized euclidean distance, the similarity of the pixel in question with its neighboring pixels\n",
    "    is factored into its own classification. Positive values denotes crystalline identification, negative values\n",
    "    denote amorphous identification.\n",
    "    \n",
    "    inputs: pixel - a 1D np.array containing its mechanical properties (0-4) and its own classification (5) and any\n",
    "                    previous classifications (6+)\n",
    "            neighbors - a 2D np.array containing the mechanical properties of the 8 neighbors of the pixel in question\n",
    "            maxVec - a 1D np.array containing the maximum values for each scan type within the whole scan\n",
    "    \n",
    "    outputs: euc_classified_pixel - a float variable containing the % aggreement between the pixel and its neighbors\n",
    "    \"\"\"\n",
    "    \n",
    "    neighbor_distances = np.empty([8, 5])\n",
    "    \n",
    "    for i in range(8):\n",
    "        for j in range(5):\n",
    "            neighbor_distances[i, j] = euc_dist(maxVec, pixel, neighbor_props[i])\n",
    "    \n",
    "    similar_neighbor_classifications = 0 \n",
    "    \n",
    "    for i in range(8):\n",
    "        total_distance = 0\n",
    "        \n",
    "        for j in range(5):\n",
    "            total_distance += neighbor_distances[i, j]\n",
    "        \n",
    "        if (total_distance/5) <= 0.7:       #assume that there can be an overall 70% fluctuation pixel-to-pixel\n",
    "            similar_neighbor_classifications += 1\n",
    "            neighbor_distances[i, 4] = 1    #flag the similar pixels to use in probability calculation\n",
    "        else:\n",
    "            neighbor_distances[i, 4] = 0\n",
    "        \n",
    "    pixel_identity = pixel_classifier_pixel(pixel)\n",
    "        \n",
    "    euc_classified_pixel = (similar_neighbor_classifications/8)*pixel_identity #negative = amorphous, positive = xtal\n",
    "        \n",
    "    return euc_classified_pixel"
   ]
  },
  {
   "cell_type": "code",
   "execution_count": 8,
   "metadata": {
    "collapsed": true
   },
   "outputs": [],
   "source": [
    "def euclidean_classifier_scan(sampleName):\n",
    "    \"\"\"\n",
    "    This function takes in the name of the sample, retrieves the file, and then calls other functions to complete a\n",
    "    classification of each pixel in the scan that incorporates its 8 nearest neighbors' euclidean distance. The edge\n",
    "    pixels are excluded from classification, but included as neighbors, for increased accuracy.\n",
    "    \n",
    "    inputs: sampleName - a string of the sample's name, excluding the filetype extension. It is assumed that all files\n",
    "                            are .txt filetype\n",
    "    outputs: euc_classified_scan - a 3D np.ndarray that contains the aggregated AFM scans, any previous\n",
    "                            classifications, and the euclidean classification.\n",
    "                    *also writes a 2D .txt file containing all of the above information\n",
    "    \"\"\"\n",
    "    \n",
    "    scan = np.loadtxt('../Data/AFM/AggregatedData/%s.txt'% (sampleName))\n",
    "    \n",
    "    x2, z = scan.shape\n",
    "    x = y = int(math.sqrt(x2))\n",
    "    scan = scan.reshape((x, y, z))\n",
    "    \n",
    "    euc_classified_scan = np.empty([x, y])\n",
    "    \n",
    "    maxVec = find_maxes(scan)\n",
    "    \n",
    "    for i in range(1, x-1):\n",
    "        for j in range(1, y-1):\n",
    "            neighbors = neighbor_locater(i, j)\n",
    "            neighbor_props = neighbor_properties(scan, neighbors)\n",
    "            \n",
    "            euc_classified_scan[i, j] = euclidean_classifier_pixel(scan[i, j], neighbor_props, maxVec)\n",
    "    \n",
    "    if z <= 6:\n",
    "        scan = scan.reshape((x2, z))\n",
    "        euc_classified_scan_1d = euc_classified_scan.reshape((x2, 1))\n",
    "        \n",
    "        scan_and_classif = np.append(scan, euc_classified_scan_1d, axis = 1)\n",
    "        np.savetxt('../Data/AFM/AggregatedData/%s.txt'%(sampleName), scan_and_classif)\n",
    "    else:\n",
    "        for i in range(x):\n",
    "            for j in range(y):\n",
    "                scan[i, j, 6] = euc_classified_scan[i, j]\n",
    "        scan = scan.reshape((x2, z))\n",
    "        np.savetxt('../Data/AFM/AggregatedData/%s.txt'%(sampleName), scan)\n",
    "    \n",
    "    return euc_classified_scan"
   ]
  },
  {
   "cell_type": "code",
   "execution_count": null,
   "metadata": {
    "collapsed": false
   },
   "outputs": [],
   "source": [
    "euclidean_classifier_scan('Control')"
   ]
  },
  {
   "cell_type": "code",
   "execution_count": 9,
   "metadata": {
    "collapsed": false
   },
   "outputs": [],
   "source": [
    "sampleName = '10-5'\n",
    "scan = np.loadtxt('../Data/AFM/AggregatedData/%s.txt'%(sampleName))\n",
    "scan = scan.reshape(768, 768, 6)\n",
    "pixel = scan[50, 50]"
   ]
  },
  {
   "cell_type": "code",
   "execution_count": 10,
   "metadata": {
    "collapsed": true
   },
   "outputs": [],
   "source": [
    "neighbors = neighbor_locater(50, 50)\n",
    "neighbor_props = neighbor_properties(scan, neighbors)\n",
    "maxVec = find_maxes(scan)"
   ]
  },
  {
   "cell_type": "code",
   "execution_count": 11,
   "metadata": {
    "collapsed": true
   },
   "outputs": [],
   "source": [
    "test = euclidean_classifier_pixel(pixel, neighbor_props, maxVec)"
   ]
  },
  {
   "cell_type": "code",
   "execution_count": 20,
   "metadata": {
    "collapsed": false
   },
   "outputs": [
    {
     "name": "stdout",
     "output_type": "stream",
     "text": [
      "1000 loops, best of 3: 276 µs per loop\n"
     ]
    }
   ],
   "source": [
    "%%timeit\n",
    "euclidean_classifier_pixel(pixel, neighbor_props, maxVec)"
   ]
  },
  {
   "cell_type": "code",
   "execution_count": 13,
   "metadata": {
    "collapsed": false
   },
   "outputs": [
    {
     "name": "stdout",
     "output_type": "stream",
     "text": [
      "0.875\n"
     ]
    }
   ],
   "source": [
    "print (test)"
   ]
  },
  {
   "cell_type": "code",
   "execution_count": null,
   "metadata": {
    "collapsed": false
   },
   "outputs": [],
   "source": [
    "plt.matshow(test, cmap = 'viridis')"
   ]
  }
 ],
 "metadata": {
  "anaconda-cloud": {},
  "kernelspec": {
   "display_name": "Python [conda root]",
   "language": "python",
   "name": "conda-root-py"
  },
  "language_info": {
   "codemirror_mode": {
    "name": "ipython",
    "version": 3
   },
   "file_extension": ".py",
   "mimetype": "text/x-python",
   "name": "python",
   "nbconvert_exporter": "python",
   "pygments_lexer": "ipython3",
   "version": "3.5.2"
  }
 },
 "nbformat": 4,
 "nbformat_minor": 2
}
