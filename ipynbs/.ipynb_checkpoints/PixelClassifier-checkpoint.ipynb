{
 "cells": [
  {
   "cell_type": "code",
   "execution_count": 1,
   "metadata": {
    "collapsed": true
   },
   "outputs": [],
   "source": [
    "import math\n",
    "import timeit\n",
    "\n",
    "import numpy as np\n",
    "import matplotlib.pyplot as plt\n",
    "%matplotlib inline"
   ]
  },
  {
   "cell_type": "code",
   "execution_count": 6,
   "metadata": {
    "collapsed": false
   },
   "outputs": [],
   "source": [
    "def pixel_classifier_scan(sampleName):\n",
    "    \"\"\"\n",
    "    This function takes in the name of a sample and calls the pixel classification method that looks only at the values\n",
    "    of the pixel's mechanical properties.\n",
    "    \n",
    "    Inputs: sampleName - a string of the sample's name, excluding filetype extension. Assumes .txt filetype\n",
    "    \n",
    "    Outputs: pixel_identities - a 2D array of the classifications of the each pixel within the scan\n",
    "    \n",
    "            *writes a 2D .txt file of the original data + the new classifications\n",
    "    \"\"\"\n",
    "    \n",
    "    scan = np.loadtxt('../Data/AFM/AggregatedData/%s.txt'% (sampleName))\n",
    "    \n",
    "    x2, z = scan.shape\n",
    "    x = y = int(math.sqrt(x2))\n",
    "    scan = scan.reshape((x, y, z))\n",
    "    \n",
    "    pixel_identities = np.empty((x, y))\n",
    "    \n",
    "    for i in range(x):\n",
    "        for j in range(y):\n",
    "            pixel_identities[i, j] = pixel_classifier_pixel(scan[i, j])\n",
    "            \n",
    "    \n",
    "    if z == 20:\n",
    "        scan = scan.reshape((x2, z))\n",
    "        pixel_identities_1d = pixel_identities.reshape((x2, 1))\n",
    "        \n",
    "        scan_and_classif = np.append(scan, pixel_identities_1d, axis = 1)\n",
    "        np.savetxt('../Data/AFM/DIRECTShowcase/%s.txt'%(sampleName), scan_and_classif) \n",
    "\n",
    "    else:\n",
    "        for i in range(x):\n",
    "            for j in range(y):\n",
    "                scan[i, j, 20] = pixel_identities[i, j]\n",
    "        scan = scan.reshape((x2, z))\n",
    "        np.savetxt('../Data/AFM/DIRECTShowcase/%s.txt'%(sampleName), scan)\n",
    "            \n",
    "    return pixel_identities\n",
    "    "
   ]
  },
  {
   "cell_type": "code",
   "execution_count": 7,
   "metadata": {
    "collapsed": true
   },
   "outputs": [],
   "source": [
    "def pixel_classifier_pixel(pixel):\n",
    "    \"\"\"\n",
    "    This function takes in a 1D array of AFM data from a single scan. It iterates through each xy location and\n",
    "    classifies that pixel as either crystalline or amorphous, depending on its z values.\n",
    "    \n",
    "    inputs: pixel - a 1D array of AFM data for each pixel\n",
    "    \n",
    "    outputs: classified_pixel - an integer that contains the pixel's identity, 1 denotes crystalline, -1 denotes\n",
    "                    amorphous.\n",
    "    \"\"\"\n",
    "    \n",
    "    adh_cut = 0.033 #greater than 33 mV\n",
    "    def_cut = 0.0000000026 #less than 2.6 nm\n",
    "    dis_cut = 0.033 #greater than 33 mV\n",
    "    mod_cut = -0.03 #greater than -0.03 V\n",
    "    stif_cut = 0.01 #greater than 0.01 V\n",
    "    \n",
    "    adh_sqrd_cut = adh_cut * adh_cut\n",
    "    def_sqrd_cut = def_cut * def_cut\n",
    "    dis_sqrd_cut = dis_cut * dis_cut\n",
    "    mod_sqrd_cut = mod_cut * mod_cut * -1\n",
    "    stif_sqrd_cut = stif_cut * stif_cut\n",
    "    \n",
    "    adh_log_cut = np.log10(adh_cut)\n",
    "    def_log_cut = np.log10(def_cut)\n",
    "    dis_log_cut = np.log10(dis_cut)\n",
    "    mod_log_cut = -1 * np.log10(mod_cut * -1)\n",
    "    stif_log_cut = np.log10(stif_cut)\n",
    "    \n",
    "    adh_inverse_cut = 1 / adh_cut\n",
    "    def_inverse_cut = 1 / def_cut\n",
    "    dis_inverse_cut = 1 / dis_cut\n",
    "    mod_inverse_cut = 1 / mod_cut\n",
    "    stif_inverse_cut = 1 / stif_cut\n",
    "    \n",
    "    cuts = [adh_cut, def_cut, dis_cut, mod_cut, stif_cut, adh_sqrd_cut, def_sqrd_cut, dis_sqrd_cut, mod_sqrd_cut, \n",
    "           stif_sqrd_cut, adh_log_cut, def_log_cut, dis_log_cut, mod_log_cut, stif_log_cut, adh_inverse_cut, \n",
    "           def_inverse_cut, dis_inverse_cut, mod_inverse_cut, stif_inverse_cut]\n",
    "    \n",
    "    classified_pixel = 0\n",
    "    \n",
    "    crystalline_count = 0\n",
    "    \n",
    "    pixelinfo = pixel * np.array([1, -1, 1, 1, 1, 1, -1, 1, 1, 1, 1, -1, 1, 1, 1, 1, -1, 1, 1, 1])\n",
    "    \n",
    "    for i in range(20):\n",
    "        if pixelinfo[i] >= cuts[i]:\n",
    "            crystalline_cout += 1\n",
    "        else:\n",
    "            pass\n",
    "\n",
    "    if crystalline_count >= 12:\n",
    "        classified_pixel = 1\n",
    "    else:\n",
    "        classified_pixel = -1\n",
    "    \n",
    "    return classified_pixel"
   ]
  },
  {
   "cell_type": "code",
   "execution_count": 8,
   "metadata": {
    "collapsed": false,
    "scrolled": false
   },
   "outputs": [],
   "source": [
    "test = pixel_classifier_scan('20-120')"
   ]
  },
  {
   "cell_type": "code",
   "execution_count": 9,
   "metadata": {
    "collapsed": false
   },
   "outputs": [
    {
     "name": "stdout",
     "output_type": "stream",
     "text": [
      "[[-1.  1. -1. ..., -1. -1. -1.]\n",
      " [ 1.  1.  1. ..., -1. -1. -1.]\n",
      " [ 1.  1. -1. ..., -1. -1. -1.]\n",
      " ..., \n",
      " [ 1.  1.  1. ..., -1. -1. -1.]\n",
      " [-1. -1. -1. ..., -1. -1. -1.]\n",
      " [-1. -1. -1. ..., -1. -1. -1.]]\n"
     ]
    }
   ],
   "source": [
    "print (test)"
   ]
  },
  {
   "cell_type": "code",
   "execution_count": null,
   "metadata": {
    "collapsed": true
   },
   "outputs": [],
   "source": []
  }
 ],
 "metadata": {
  "anaconda-cloud": {},
  "kernelspec": {
   "display_name": "Python [conda root]",
   "language": "python",
   "name": "conda-root-py"
  },
  "language_info": {
   "codemirror_mode": {
    "name": "ipython",
    "version": 3
   },
   "file_extension": ".py",
   "mimetype": "text/x-python",
   "name": "python",
   "nbconvert_exporter": "python",
   "pygments_lexer": "ipython3",
   "version": "3.5.2"
  }
 },
 "nbformat": 4,
 "nbformat_minor": 2
}
