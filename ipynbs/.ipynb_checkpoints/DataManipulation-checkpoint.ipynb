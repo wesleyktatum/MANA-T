{
 "cells": [
  {
   "cell_type": "code",
   "execution_count": null,
   "metadata": {
    "collapsed": true
   },
   "outputs": [],
   "source": [
    "import numpy as np"
   ]
  },
  {
   "cell_type": "markdown",
   "metadata": {},
   "source": [
    "## This ipynb \n",
    "takes cleaned data from the Bruker Icon's QNM scan and calculates the log, square, and inverse of each scan type. It then aggregates the data"
   ]
  },
  {
   "cell_type": "code",
   "execution_count": null,
   "metadata": {
    "collapsed": true
   },
   "outputs": [],
   "source": [
    "sampleName = '10-5'"
   ]
  },
  {
   "cell_type": "code",
   "execution_count": null,
   "metadata": {
    "collapsed": false
   },
   "outputs": [],
   "source": [
    "adh = np.genfromtxt('../Data/AFM/CleanedTXT/Adhesion/%s.txt'% (sampleName))\n",
    "defor = np.genfromtxt('../Data/AFM/CleanedTXT/Deformation/%s.txt'% (sampleName))\n",
    "dis = np.genfromtxt('../Data/AFM/CleanedTXT/Dissipation/%s.txt'% (sampleName))\n",
    "modul_log = np.genfromtxt('../Data/AFM/CleanedTXT/LogDMTModulus/%s.txt'% (sampleName))\n",
    "stif = np.genfromtxt('../Data/AFM/CleanedTXT/Stiffness/%s.txt'% (sampleName))\n",
    "\n",
    "x, y = adh.shape\n",
    "z = 20\n",
    "\n",
    "aggr = np.ndarray([x, y, z])"
   ]
  },
  {
   "cell_type": "code",
   "execution_count": null,
   "metadata": {
    "collapsed": false
   },
   "outputs": [],
   "source": [
    "for i in range(x):\n",
    "    for j in range(y):\n",
    "        modul[i, j] = np.exp(modul_log[i, j])"
   ]
  },
  {
   "cell_type": "code",
   "execution_count": null,
   "metadata": {
    "collapsed": false
   },
   "outputs": [],
   "source": [
    "adh_sqrd = np.empty([x, y])\n",
    "defor_sqrd = np.empty([x, y])\n",
    "dis_sqrd = np.empty([x, y])\n",
    "modul_sqrd = np.empty([x, y])\n",
    "stif_sqrd = np.empty([x, y])"
   ]
  },
  {
   "cell_type": "code",
   "execution_count": null,
   "metadata": {
    "collapsed": true
   },
   "outputs": [],
   "source": [
    "adh_log = np.empty([x, y])\n",
    "defor_log = np.empty([x, y])\n",
    "dis_log = np.empty([x, y])\n",
    "modul = np.empty([x, y]) #e^(raw data)\n",
    "stif_log = np.empty([x, y])"
   ]
  },
  {
   "cell_type": "code",
   "execution_count": null,
   "metadata": {
    "collapsed": true
   },
   "outputs": [],
   "source": [
    "adh_inverse = np.empty([x, y])\n",
    "defor_inverse = np.empty([x, y])\n",
    "dis_inverse = np.empty([x, y])\n",
    "modul_inverse = np.empty([x, y])\n",
    "stif_inverse = np.empty([x, y])"
   ]
  },
  {
   "cell_type": "code",
   "execution_count": null,
   "metadata": {
    "collapsed": true
   },
   "outputs": [],
   "source": [
    "for i in range(x):\n",
    "    for j in range(y):\n",
    "        if adh[i, j] > 0:\n",
    "            adh_sqrd[i, j] = (adh[i, j] * adh[i, j])\n",
    "        else:\n",
    "            adh_sqrd[i, j] = (adh[i, j] * adh[i, j])*-1\n",
    "            \n",
    "for i in range(x):\n",
    "    for j in range(y):\n",
    "        if defor[i, j] > 0:\n",
    "            defor_sqrd[i, j] = (defor[i, j] * defor[i, j])\n",
    "        else:\n",
    "            defor_sqrd[i, j] = (defor[i, j] * defor[i, j])*-1\n",
    "            \n",
    "for i in range(x):\n",
    "    for j in range(y):\n",
    "        if dis[i, j] > 0:\n",
    "            dis_sqrd[i, j] = (dis[i, j] * dis[i, j])\n",
    "        else:\n",
    "            dis_sqrd[i, j] = (dis[i, j] * dis[i, j])*-1\n",
    "            \n",
    "for i in range(x):\n",
    "    for j in range(y):\n",
    "        if modul[i, j] > 0:\n",
    "            modul_sqrd[i, j] = (modul[i, j] * modul[i, j])\n",
    "        else:\n",
    "            modul_sqrd[i, j] = (modul[i, j] * modul[i, j])*-1\n",
    "            \n",
    "for i in range(x):\n",
    "    for j in range(y):\n",
    "        if stif[i, j] > 0:\n",
    "            stif_sqrd[i, j] = (stif[i, j] * stif[i, j])\n",
    "        else:\n",
    "            stif_sqrd[i, j] = (stif[i, j] * stif[i, j])*-1"
   ]
  },
  {
   "cell_type": "code",
   "execution_count": null,
   "metadata": {
    "collapsed": false
   },
   "outputs": [],
   "source": [
    "for i in range(x):\n",
    "    for j in range(y):\n",
    "        if adh[i, j] > 0:\n",
    "            adh_log[i, j] = np.log(adh[i, j])\n",
    "        elif adh[i, j] == 0:\n",
    "            adh_log[i, j] = 0\n",
    "        else:\n",
    "            adh_log[i, j] = np.log(adh[i, j]*-1)\n",
    "            \n",
    "for i in range(x):\n",
    "    for j in range(y):\n",
    "        if defor[i, j] > 0:\n",
    "            defor_log[i, j] = np.log(defor[i, j])\n",
    "        elif defor[i, j] == 0:\n",
    "            defor_log[i, j] = 0    \n",
    "        else:\n",
    "            defor_log[i, j] = np.log(defor[i, j]*-1)\n",
    "            \n",
    "for i in range(x):\n",
    "    for j in range(y):\n",
    "        if dis[i, j] > 0:\n",
    "            dis_log[i, j] = np.log(dis[i, j])\n",
    "        elif dis[i, j] == 0:\n",
    "            dis_log[i, j] = 0\n",
    "        else:\n",
    "            dis_log[i, j] = np.log(dis[i, j]*-1)\n",
    "            \n",
    "for i in range(x):\n",
    "    for j in range(y):\n",
    "        if stif[i, j] > 0:\n",
    "            stif_log[i, j] = np.log(stif[i, j])\n",
    "        elif stif[i, j] == 0:\n",
    "            stif_log[i, j] = 0\n",
    "        else:\n",
    "            stif_log[i, j] = np.log(stif[i, j]*-1)"
   ]
  },
  {
   "cell_type": "code",
   "execution_count": null,
   "metadata": {
    "collapsed": true
   },
   "outputs": [],
   "source": [
    "for i in range(x):\n",
    "    for j in range(y):\n",
    "        adh_inverse[i, j] = (1/adh[i, j])\n",
    "            \n",
    "for i in range(x):\n",
    "    for j in range(y):\n",
    "        defor_inverse[i, j] = (1/defor[i, j])\n",
    "            \n",
    "for i in range(x):\n",
    "    for j in range(y):\n",
    "        dis_inverse[i, j] = (1/dis[i, j])\n",
    "            \n",
    "for i in range(x):\n",
    "    for j in range(y):\n",
    "        modul_inverse[i, j] = (1/modul[i, j])\n",
    "            \n",
    "for i in range(x):\n",
    "    for j in range(y):\n",
    "        stif_inverse[i, j] = (1/stif[i, j])"
   ]
  },
  {
   "cell_type": "code",
   "execution_count": null,
   "metadata": {
    "collapsed": true
   },
   "outputs": [],
   "source": [
    "for i in range(x):\n",
    "    for j in range(y):\n",
    "        aggr[i, j, 0] = adh[i, j]\n",
    "\n",
    "for i in range(x):\n",
    "    for j in range(y):\n",
    "        aggr[i, j, 1] = defor[i, j]\n",
    "\n",
    "for i in range(x):\n",
    "    for j in range(y):\n",
    "        aggr[i, j, 2] = dis[i, j]\n",
    "\n",
    "for i in range(x):\n",
    "    for j in range(y):\n",
    "        aggr[i, j, 3] = modul[i, j]\n",
    "\n",
    "for i in range(x):\n",
    "    for j in range(y):\n",
    "        aggr[i, j, 4] = stif[i, j]"
   ]
  },
  {
   "cell_type": "code",
   "execution_count": null,
   "metadata": {
    "collapsed": true
   },
   "outputs": [],
   "source": [
    "for i in range(x):\n",
    "    for j in range(y):\n",
    "        aggr[i, j, 5] = adh_sqrd[i, j]\n",
    "\n",
    "for i in range(x):\n",
    "    for j in range(y):\n",
    "        aggr[i, j, 6] = defor_sqrd[i, j]\n",
    "\n",
    "for i in range(x):\n",
    "    for j in range(y):\n",
    "        aggr[i, j, 7] = dis_sqrd[i, j]\n",
    "\n",
    "for i in range(x):\n",
    "    for j in range(y):\n",
    "        aggr[i, j, 8] = modul_sqrd[i, j]\n",
    "\n",
    "for i in range(x):\n",
    "    for j in range(y):\n",
    "        aggr[i, j, 9] = stif_sqrd[i, j]"
   ]
  },
  {
   "cell_type": "code",
   "execution_count": null,
   "metadata": {
    "collapsed": true
   },
   "outputs": [],
   "source": [
    "for i in range(x):\n",
    "    for j in range(y):\n",
    "        aggr[i, j, 10] = adh_log[i, j]\n",
    "\n",
    "for i in range(x):\n",
    "    for j in range(y):\n",
    "        aggr[i, j, 11] = defor_log[i, j]\n",
    "\n",
    "for i in range(x):\n",
    "    for j in range(y):\n",
    "        aggr[i, j, 12] = dis_log[i, j]\n",
    "\n",
    "for i in range(x):\n",
    "    for j in range(y):\n",
    "        aggr[i, j, 13] = modul_log[i, j]\n",
    "\n",
    "for i in range(x):\n",
    "    for j in range(y):\n",
    "        aggr[i, j, 14] = stif_log[i, j]"
   ]
  },
  {
   "cell_type": "code",
   "execution_count": null,
   "metadata": {
    "collapsed": true
   },
   "outputs": [],
   "source": [
    "for i in range(x):\n",
    "    for j in range(y):\n",
    "        aggr[i, j, 15] = adh_inverse[i, j]\n",
    "\n",
    "for i in range(x):\n",
    "    for j in range(y):\n",
    "        aggr[i, j, 16] = defor_inverse[i, j]\n",
    "\n",
    "for i in range(x):\n",
    "    for j in range(y):\n",
    "        aggr[i, j, 17] = dis_inverse[i, j]\n",
    "\n",
    "for i in range(x):\n",
    "    for j in range(y):\n",
    "        aggr[i, j, 18] = modul_inverse[i, j]\n",
    "\n",
    "for i in range(x):\n",
    "    for j in range(y):\n",
    "        aggr[i, j, 19] = stif_inverse[i, j]"
   ]
  },
  {
   "cell_type": "code",
   "execution_count": null,
   "metadata": {
    "collapsed": true
   },
   "outputs": [],
   "source": [
    "two_dim_aggr = aggr.reshape((x*y), z)\n",
    "\n",
    "np.savetxt('/Users/wesleytatum/Desktop/DIRECT/CapstoneProject/Capstone/MANA-T_Data/AggregatedData/%s.txt'%(sampleName),\n",
    "           two_dim_aggr)"
   ]
  }
 ],
 "metadata": {
  "anaconda-cloud": {},
  "kernelspec": {
   "display_name": "Python [conda root]",
   "language": "python",
   "name": "conda-root-py"
  },
  "language_info": {
   "codemirror_mode": {
    "name": "ipython",
    "version": 3
   },
   "file_extension": ".py",
   "mimetype": "text/x-python",
   "name": "python",
   "nbconvert_exporter": "python",
   "pygments_lexer": "ipython3",
   "version": "3.5.2"
  }
 },
 "nbformat": 4,
 "nbformat_minor": 2
}
