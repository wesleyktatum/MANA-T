{
 "cells": [
  {
   "cell_type": "code",
   "execution_count": 2,
   "metadata": {
    "collapsed": true
   },
   "outputs": [],
   "source": [
    "import numpy as np"
   ]
  },
  {
   "cell_type": "markdown",
   "metadata": {},
   "source": [
    "## This ipynb \n",
    "takes cleaned data from the Bruker Icon's QNM scan and calculates the log, square, and inverse of each scan type. It then aggregates the data\n",
    "\n",
    "0-4 normal data\n",
    "\n",
    "5-9 data^2\n",
    "\n",
    "10-14 log10(data)\n",
    "\n",
    "15-19 (data)^-1"
   ]
  },
  {
   "cell_type": "code",
   "execution_count": 1,
   "metadata": {
    "collapsed": true
   },
   "outputs": [],
   "source": [
    "sampleNames = ['Control', '10-5', '10-10', '10-15', '10-30', '10-45', '10-60', '10-75', '10-90', '10-105', '10-120',\n",
    "               '20-5', '20-10', '20-15', '20-30', '20-45', '20-60', '20-75', '20-90', '20-105','20-120']"
   ]
  },
  {
   "cell_type": "code",
   "execution_count": 4,
   "metadata": {
    "collapsed": false
   },
   "outputs": [
    {
     "name": "stdout",
     "output_type": "stream",
     "text": [
      "21\n"
     ]
    }
   ],
   "source": [
    "num_of_names = len(sampleNames)\n",
    "\n",
    "print (num_of_names)"
   ]
  },
  {
   "cell_type": "code",
   "execution_count": 6,
   "metadata": {
    "collapsed": false
   },
   "outputs": [
    {
     "name": "stdout",
     "output_type": "stream",
     "text": [
      "Control\n",
      "10-5\n",
      "10-10\n",
      "10-15\n",
      "10-30\n",
      "10-45\n",
      "10-60\n",
      "10-75\n",
      "10-90\n",
      "10-105\n",
      "10-120\n",
      "20-5\n",
      "20-10\n",
      "20-15\n",
      "20-30\n",
      "20-45\n",
      "20-60\n",
      "20-75\n",
      "20-90\n",
      "20-105\n",
      "20-120\n"
     ]
    }
   ],
   "source": [
    "for s in range(num_of_names):\n",
    "    \n",
    "    adh = np.genfromtxt('../Data/AFM/CleanedTXT/Adhesion/%s.txt'% (sampleNames[s]))\n",
    "    defor = np.genfromtxt('../Data/AFM/CleanedTXT/Deformation/%s.txt'% (sampleNames[s]))\n",
    "    dis = np.genfromtxt('../Data/AFM/CleanedTXT/Dissipation/%s.txt'% (sampleNames[s]))\n",
    "    modul_log = np.genfromtxt('../Data/AFM/CleanedTXT/LogDMTModulus/%s.txt'% (sampleNames[s]))\n",
    "    stif = np.genfromtxt('../Data/AFM/CleanedTXT/Stiffness/%s.txt'% (sampleNames[s]))\n",
    "\n",
    "    x, y = adh.shape\n",
    "    z = 20\n",
    "    \n",
    "    aggr = np.ndarray([x, y, z])\n",
    "\n",
    "    adh_sqrd = np.empty([x, y])\n",
    "    defor_sqrd = np.empty([x, y])\n",
    "    dis_sqrd = np.empty([x, y])\n",
    "    modul_sqrd = np.empty([x, y])\n",
    "    stif_sqrd = np.empty([x, y])\n",
    "\n",
    "    adh_log = np.empty([x, y])\n",
    "    defor_log = np.empty([x, y])\n",
    "    dis_log = np.empty([x, y])\n",
    "    modul = np.empty([x, y]) #e^(raw data)\n",
    "    stif_log = np.empty([x, y])\n",
    "\n",
    "    adh_inverse = np.empty([x, y])\n",
    "    defor_inverse = np.empty([x, y])\n",
    "    dis_inverse = np.empty([x, y])\n",
    "    modul_inverse = np.empty([x, y])\n",
    "    stif_inverse = np.empty([x, y])\n",
    "\n",
    "    #generate normal modulus from log(modulus)\n",
    "    \n",
    "    for i in range(x):\n",
    "        for j in range(y):\n",
    "            modul[i, j] = np.power(10, modul_log[i, j])\n",
    "            \n",
    "    #generate squared data\n",
    "\n",
    "    for i in range(x):\n",
    "        for j in range(y):\n",
    "            if adh[i, j] > 0:\n",
    "                adh_sqrd[i, j] = (adh[i, j] * adh[i, j])\n",
    "            else:\n",
    "                adh_sqrd[i, j] = (adh[i, j] * adh[i, j])*-1\n",
    "\n",
    "    for i in range(x):\n",
    "        for j in range(y):\n",
    "            if defor[i, j] > 0:\n",
    "                defor_sqrd[i, j] = (defor[i, j] * defor[i, j])\n",
    "            else:\n",
    "                defor_sqrd[i, j] = (defor[i, j] * defor[i, j])*-1\n",
    "\n",
    "    for i in range(x):\n",
    "        for j in range(y):\n",
    "            if dis[i, j] > 0:\n",
    "                dis_sqrd[i, j] = (dis[i, j] * dis[i, j])\n",
    "            else:\n",
    "                dis_sqrd[i, j] = (dis[i, j] * dis[i, j])*-1\n",
    "\n",
    "    for i in range(x):\n",
    "        for j in range(y):\n",
    "            if modul[i, j] > 0:\n",
    "                modul_sqrd[i, j] = (modul[i, j] * modul[i, j])\n",
    "            else:\n",
    "                modul_sqrd[i, j] = (modul[i, j] * modul[i, j])*-1\n",
    "\n",
    "    for i in range(x):\n",
    "        for j in range(y):\n",
    "            if stif[i, j] > 0:\n",
    "                stif_sqrd[i, j] = (stif[i, j] * stif[i, j])\n",
    "            else:\n",
    "                stif_sqrd[i, j] = (stif[i, j] * stif[i, j])*-1\n",
    "\n",
    "    #generate log(data), excludes modulus\n",
    "    \n",
    "    for i in range(x):\n",
    "        for j in range(y):\n",
    "            if adh[i, j] > 0:\n",
    "                adh_log[i, j] = np.log10(adh[i, j])\n",
    "            elif adh[i, j] == 0:\n",
    "                adh_log[i, j] = 0\n",
    "            else:\n",
    "                adh_log[i, j] = -1 * np.log10(adh[i, j]*-1)\n",
    "\n",
    "    for i in range(x):\n",
    "        for j in range(y):\n",
    "            if defor[i, j] > 0:\n",
    "                defor_log[i, j] = np.log10(defor[i, j])\n",
    "            elif defor[i, j] == 0:\n",
    "                defor_log[i, j] = 0    \n",
    "            else:\n",
    "                defor_log[i, j] = -1 * np.log10(defor[i, j]*-1)\n",
    "\n",
    "    for i in range(x):\n",
    "        for j in range(y):\n",
    "            if dis[i, j] > 0:\n",
    "                dis_log[i, j] = np.log10(dis[i, j])\n",
    "            elif dis[i, j] == 0:\n",
    "                dis_log[i, j] = 0\n",
    "            else:\n",
    "                dis_log[i, j] = -1 * np.log10(dis[i, j]*-1)\n",
    "\n",
    "    for i in range(x):\n",
    "        for j in range(y):\n",
    "            if stif[i, j] > 0:\n",
    "                stif_log[i, j] = np.log10(stif[i, j])\n",
    "            elif stif[i, j] == 0:\n",
    "                stif_log[i, j] = 0\n",
    "            else:\n",
    "                stif_log[i, j] = -1 * np.log10(stif[i, j]*-1)\n",
    "\n",
    "    #generates 1/data\n",
    "    \n",
    "    for i in range(x):\n",
    "        for j in range(y):\n",
    "            adh_inverse[i, j] = (1/adh[i, j])\n",
    "\n",
    "    for i in range(x):\n",
    "        for j in range(y):\n",
    "            defor_inverse[i, j] = (1/defor[i, j])\n",
    "\n",
    "    for i in range(x):\n",
    "        for j in range(y):\n",
    "            dis_inverse[i, j] = (1/dis[i, j])\n",
    "\n",
    "    for i in range(x):\n",
    "        for j in range(y):\n",
    "            modul_inverse[i, j] = (1/modul[i, j])\n",
    "\n",
    "    for i in range(x):\n",
    "        for j in range(y):\n",
    "            stif_inverse[i, j] = (1/stif[i, j])\n",
    "\n",
    "    #Compile all of the data into a single, 768x768x20 array\n",
    "    \n",
    "    for i in range(x):\n",
    "        for j in range(y):\n",
    "            aggr[i, j, 0] = adh[i, j]\n",
    "\n",
    "    for i in range(x):\n",
    "        for j in range(y):\n",
    "            aggr[i, j, 1] = defor[i, j]\n",
    "\n",
    "    for i in range(x):\n",
    "        for j in range(y):\n",
    "            aggr[i, j, 2] = dis[i, j]\n",
    "\n",
    "    for i in range(x):\n",
    "        for j in range(y):\n",
    "            aggr[i, j, 3] = modul[i, j]\n",
    "\n",
    "    for i in range(x):\n",
    "        for j in range(y):\n",
    "            aggr[i, j, 4] = stif[i, j]\n",
    "\n",
    "    for i in range(x):\n",
    "        for j in range(y):\n",
    "            aggr[i, j, 5] = adh_sqrd[i, j]\n",
    "\n",
    "    for i in range(x):\n",
    "        for j in range(y):\n",
    "            aggr[i, j, 6] = defor_sqrd[i, j]\n",
    "\n",
    "    for i in range(x):\n",
    "        for j in range(y):\n",
    "            aggr[i, j, 7] = dis_sqrd[i, j]\n",
    "\n",
    "    for i in range(x):\n",
    "        for j in range(y):\n",
    "            aggr[i, j, 8] = modul_sqrd[i, j]\n",
    "\n",
    "    for i in range(x):\n",
    "        for j in range(y):\n",
    "            aggr[i, j, 9] = stif_sqrd[i, j]\n",
    "\n",
    "    for i in range(x):\n",
    "        for j in range(y):\n",
    "            aggr[i, j, 10] = adh_log[i, j]\n",
    "\n",
    "    for i in range(x):\n",
    "        for j in range(y):\n",
    "            aggr[i, j, 11] = defor_log[i, j]\n",
    "\n",
    "    for i in range(x):\n",
    "        for j in range(y):\n",
    "            aggr[i, j, 12] = dis_log[i, j]\n",
    "\n",
    "    for i in range(x):\n",
    "        for j in range(y):\n",
    "            aggr[i, j, 13] = modul_log[i, j]\n",
    "\n",
    "    for i in range(x):\n",
    "        for j in range(y):\n",
    "            aggr[i, j, 14] = stif_log[i, j]\n",
    "\n",
    "    for i in range(x):\n",
    "        for j in range(y):\n",
    "            aggr[i, j, 15] = adh_inverse[i, j]\n",
    "\n",
    "    for i in range(x):\n",
    "        for j in range(y):\n",
    "            aggr[i, j, 16] = defor_inverse[i, j]\n",
    "\n",
    "    for i in range(x):\n",
    "        for j in range(y):\n",
    "            aggr[i, j, 17] = dis_inverse[i, j]\n",
    "\n",
    "    for i in range(x):\n",
    "        for j in range(y):\n",
    "            aggr[i, j, 18] = modul_inverse[i, j]\n",
    "\n",
    "    for i in range(x):\n",
    "        for j in range(y):\n",
    "            aggr[i, j, 19] = stif_inverse[i, j]\n",
    "\n",
    "    #convert 3D array to 2D\n",
    "    \n",
    "    two_dim_aggr = aggr.reshape((x*y), z)\n",
    "\n",
    "    np.savetxt('/Users/wesleytatum/Desktop/DIRECT/CapstoneProject/Capstone/MANA-T_Data/AggregatedData/%s.txt'\n",
    "               %(sampleNames[s]),two_dim_aggr)\n",
    "    print (sampleNames[s])"
   ]
  },
  {
   "cell_type": "code",
   "execution_count": 241,
   "metadata": {
    "collapsed": false
   },
   "outputs": [],
   "source": [
    "for i in range(x):\n",
    "    for j in range(y):\n",
    "        modul[i, j] = np.power(10, modul_log[i, j])"
   ]
  },
  {
   "cell_type": "code",
   "execution_count": 5,
   "metadata": {
    "collapsed": false
   },
   "outputs": [],
   "source": [
    "adh_sqrd = np.empty([x, y])\n",
    "defor_sqrd = np.empty([x, y])\n",
    "dis_sqrd = np.empty([x, y])\n",
    "modul_sqrd = np.empty([x, y])\n",
    "stif_sqrd = np.empty([x, y])"
   ]
  },
  {
   "cell_type": "code",
   "execution_count": 6,
   "metadata": {
    "collapsed": true
   },
   "outputs": [],
   "source": [
    "adh_log = np.empty([x, y])\n",
    "defor_log = np.empty([x, y])\n",
    "dis_log = np.empty([x, y])\n",
    "modul = np.empty([x, y]) #e^(raw data)\n",
    "stif_log = np.empty([x, y])"
   ]
  },
  {
   "cell_type": "code",
   "execution_count": 7,
   "metadata": {
    "collapsed": true
   },
   "outputs": [],
   "source": [
    "adh_inverse = np.empty([x, y])\n",
    "defor_inverse = np.empty([x, y])\n",
    "dis_inverse = np.empty([x, y])\n",
    "modul_inverse = np.empty([x, y])\n",
    "stif_inverse = np.empty([x, y])"
   ]
  },
  {
   "cell_type": "code",
   "execution_count": 242,
   "metadata": {
    "collapsed": true
   },
   "outputs": [],
   "source": [
    "for i in range(x):\n",
    "    for j in range(y):\n",
    "        if adh[i, j] > 0:\n",
    "            adh_sqrd[i, j] = (adh[i, j] * adh[i, j])\n",
    "        else:\n",
    "            adh_sqrd[i, j] = (adh[i, j] * adh[i, j])*-1\n",
    "            \n",
    "for i in range(x):\n",
    "    for j in range(y):\n",
    "        if defor[i, j] > 0:\n",
    "            defor_sqrd[i, j] = (defor[i, j] * defor[i, j])\n",
    "        else:\n",
    "            defor_sqrd[i, j] = (defor[i, j] * defor[i, j])*-1\n",
    "            \n",
    "for i in range(x):\n",
    "    for j in range(y):\n",
    "        if dis[i, j] > 0:\n",
    "            dis_sqrd[i, j] = (dis[i, j] * dis[i, j])\n",
    "        else:\n",
    "            dis_sqrd[i, j] = (dis[i, j] * dis[i, j])*-1\n",
    "            \n",
    "for i in range(x):\n",
    "    for j in range(y):\n",
    "        if modul[i, j] > 0:\n",
    "            modul_sqrd[i, j] = (modul[i, j] * modul[i, j])\n",
    "        else:\n",
    "            modul_sqrd[i, j] = (modul[i, j] * modul[i, j])*-1\n",
    "            \n",
    "for i in range(x):\n",
    "    for j in range(y):\n",
    "        if stif[i, j] > 0:\n",
    "            stif_sqrd[i, j] = (stif[i, j] * stif[i, j])\n",
    "        else:\n",
    "            stif_sqrd[i, j] = (stif[i, j] * stif[i, j])*-1"
   ]
  },
  {
   "cell_type": "code",
   "execution_count": 243,
   "metadata": {
    "collapsed": false
   },
   "outputs": [],
   "source": [
    "for i in range(x):\n",
    "    for j in range(y):\n",
    "        if adh[i, j] > 0:\n",
    "            adh_log[i, j] = np.log10(adh[i, j])\n",
    "        elif adh[i, j] == 0:\n",
    "            adh_log[i, j] = 0\n",
    "        else:\n",
    "            adh_log[i, j] = -1 * np.log10(adh[i, j]*-1)\n",
    "            \n",
    "for i in range(x):\n",
    "    for j in range(y):\n",
    "        if defor[i, j] > 0:\n",
    "            defor_log[i, j] = np.log10(defor[i, j])\n",
    "        elif defor[i, j] == 0:\n",
    "            defor_log[i, j] = 0    \n",
    "        else:\n",
    "            defor_log[i, j] = -1 * np.log10(defor[i, j]*-1)\n",
    "            \n",
    "for i in range(x):\n",
    "    for j in range(y):\n",
    "        if dis[i, j] > 0:\n",
    "            dis_log[i, j] = np.log10(dis[i, j])\n",
    "        elif dis[i, j] == 0:\n",
    "            dis_log[i, j] = 0\n",
    "        else:\n",
    "            dis_log[i, j] = -1 * np.log10(dis[i, j]*-1)\n",
    "            \n",
    "for i in range(x):\n",
    "    for j in range(y):\n",
    "        if stif[i, j] > 0:\n",
    "            stif_log[i, j] = np.log10(stif[i, j])\n",
    "        elif stif[i, j] == 0:\n",
    "            stif_log[i, j] = 0\n",
    "        else:\n",
    "            stif_log[i, j] = -1 * np.log10(stif[i, j]*-1)"
   ]
  },
  {
   "cell_type": "code",
   "execution_count": 244,
   "metadata": {
    "collapsed": true
   },
   "outputs": [],
   "source": [
    "for i in range(x):\n",
    "    for j in range(y):\n",
    "        adh_inverse[i, j] = (1/adh[i, j])\n",
    "            \n",
    "for i in range(x):\n",
    "    for j in range(y):\n",
    "        defor_inverse[i, j] = (1/defor[i, j])\n",
    "            \n",
    "for i in range(x):\n",
    "    for j in range(y):\n",
    "        dis_inverse[i, j] = (1/dis[i, j])\n",
    "            \n",
    "for i in range(x):\n",
    "    for j in range(y):\n",
    "        modul_inverse[i, j] = (1/modul[i, j])\n",
    "            \n",
    "for i in range(x):\n",
    "    for j in range(y):\n",
    "        stif_inverse[i, j] = (1/stif[i, j])"
   ]
  },
  {
   "cell_type": "code",
   "execution_count": 246,
   "metadata": {
    "collapsed": true
   },
   "outputs": [],
   "source": [
    "for i in range(x):\n",
    "    for j in range(y):\n",
    "        aggr[i, j, 0] = adh[i, j]\n",
    "\n",
    "for i in range(x):\n",
    "    for j in range(y):\n",
    "        aggr[i, j, 1] = defor[i, j]\n",
    "\n",
    "for i in range(x):\n",
    "    for j in range(y):\n",
    "        aggr[i, j, 2] = dis[i, j]\n",
    "\n",
    "for i in range(x):\n",
    "    for j in range(y):\n",
    "        aggr[i, j, 3] = modul[i, j]\n",
    "\n",
    "for i in range(x):\n",
    "    for j in range(y):\n",
    "        aggr[i, j, 4] = stif[i, j]"
   ]
  },
  {
   "cell_type": "code",
   "execution_count": 247,
   "metadata": {
    "collapsed": true
   },
   "outputs": [],
   "source": [
    "for i in range(x):\n",
    "    for j in range(y):\n",
    "        aggr[i, j, 5] = adh_sqrd[i, j]\n",
    "\n",
    "for i in range(x):\n",
    "    for j in range(y):\n",
    "        aggr[i, j, 6] = defor_sqrd[i, j]\n",
    "\n",
    "for i in range(x):\n",
    "    for j in range(y):\n",
    "        aggr[i, j, 7] = dis_sqrd[i, j]\n",
    "\n",
    "for i in range(x):\n",
    "    for j in range(y):\n",
    "        aggr[i, j, 8] = modul_sqrd[i, j]\n",
    "\n",
    "for i in range(x):\n",
    "    for j in range(y):\n",
    "        aggr[i, j, 9] = stif_sqrd[i, j]"
   ]
  },
  {
   "cell_type": "code",
   "execution_count": 248,
   "metadata": {
    "collapsed": true
   },
   "outputs": [],
   "source": [
    "for i in range(x):\n",
    "    for j in range(y):\n",
    "        aggr[i, j, 10] = adh_log[i, j]\n",
    "\n",
    "for i in range(x):\n",
    "    for j in range(y):\n",
    "        aggr[i, j, 11] = defor_log[i, j]\n",
    "\n",
    "for i in range(x):\n",
    "    for j in range(y):\n",
    "        aggr[i, j, 12] = dis_log[i, j]\n",
    "\n",
    "for i in range(x):\n",
    "    for j in range(y):\n",
    "        aggr[i, j, 13] = modul_log[i, j]\n",
    "\n",
    "for i in range(x):\n",
    "    for j in range(y):\n",
    "        aggr[i, j, 14] = stif_log[i, j]"
   ]
  },
  {
   "cell_type": "code",
   "execution_count": 249,
   "metadata": {
    "collapsed": true
   },
   "outputs": [],
   "source": [
    "for i in range(x):\n",
    "    for j in range(y):\n",
    "        aggr[i, j, 15] = adh_inverse[i, j]\n",
    "\n",
    "for i in range(x):\n",
    "    for j in range(y):\n",
    "        aggr[i, j, 16] = defor_inverse[i, j]\n",
    "\n",
    "for i in range(x):\n",
    "    for j in range(y):\n",
    "        aggr[i, j, 17] = dis_inverse[i, j]\n",
    "\n",
    "for i in range(x):\n",
    "    for j in range(y):\n",
    "        aggr[i, j, 18] = modul_inverse[i, j]\n",
    "\n",
    "for i in range(x):\n",
    "    for j in range(y):\n",
    "        aggr[i, j, 19] = stif_inverse[i, j]"
   ]
  },
  {
   "cell_type": "code",
   "execution_count": 250,
   "metadata": {
    "collapsed": true
   },
   "outputs": [],
   "source": [
    "two_dim_aggr = aggr.reshape((x*y), z)\n",
    "\n",
    "np.savetxt('/Users/wesleytatum/Desktop/DIRECT/CapstoneProject/Capstone/MANA-T_Data/AggregatedData/%s.txt'%(sampleName),\n",
    "           two_dim_aggr)"
   ]
  },
  {
   "cell_type": "code",
   "execution_count": 17,
   "metadata": {
    "collapsed": false
   },
   "outputs": [
    {
     "name": "stdout",
     "output_type": "stream",
     "text": [
      "(589824, 20)\n",
      "[[ -1.09920000e-03   7.46440000e-11  -1.05380000e-02 ...,  -9.48946669e+01\n",
      "    9.97207207e-01   7.97893561e+02]\n",
      " [  3.98000000e-04   1.57130000e-10  -1.05320000e-02 ...,  -9.49487277e+01\n",
      "    1.00350021e+00  -7.00574471e+01]\n",
      " [  3.95200000e-04   1.57140000e-10  -1.05270000e-02 ...,  -9.49938254e+01\n",
      "    1.00344362e+00  -7.05367849e+01]\n",
      " ..., \n",
      " [  3.38110000e-03  -6.40780000e-11  -8.77180000e-05 ...,  -1.14001687e+04\n",
      "    1.00829179e+00  -5.87544066e+01]\n",
      " [  7.49330000e-04   1.19300000e-10  -1.00210000e-04 ...,  -9.97904401e+03\n",
      "    1.03528526e+00  -1.56281745e+01]\n",
      " [ -3.00740000e-03   2.56860000e-10  -1.12760000e-04 ...,  -8.86839305e+03\n",
      "    1.02327882e+00  -3.04590174e+01]]\n"
     ]
    }
   ],
   "source": [
    "print (two_dim_aggr.shape)\n",
    "print (two_dim_aggr)"
   ]
  },
  {
   "cell_type": "code",
   "execution_count": null,
   "metadata": {
    "collapsed": true
   },
   "outputs": [],
   "source": []
  }
 ],
 "metadata": {
  "anaconda-cloud": {},
  "kernelspec": {
   "display_name": "Python [conda root]",
   "language": "python",
   "name": "conda-root-py"
  },
  "language_info": {
   "codemirror_mode": {
    "name": "ipython",
    "version": 3
   },
   "file_extension": ".py",
   "mimetype": "text/x-python",
   "name": "python",
   "nbconvert_exporter": "python",
   "pygments_lexer": "ipython3",
   "version": "3.5.2"
  }
 },
 "nbformat": 4,
 "nbformat_minor": 2
}
